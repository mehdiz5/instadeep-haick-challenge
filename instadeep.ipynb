{
  "nbformat": 4,
  "nbformat_minor": 0,
  "metadata": {
    "colab": {
      "provenance": [],
      "authorship_tag": "ABX9TyNpSAh98Uiw/Aa2xtAyGqe4",
      "include_colab_link": true
    },
    "kernelspec": {
      "name": "python3",
      "display_name": "Python 3"
    },
    "language_info": {
      "name": "python"
    },
    "accelerator": "GPU",
    "gpuClass": "standard"
  },
  "cells": [
    {
      "cell_type": "markdown",
      "metadata": {
        "id": "view-in-github",
        "colab_type": "text"
      },
      "source": [
        "<a href=\"https://colab.research.google.com/github/mehdiz5/instadeep-haick-challenge/blob/main/instadeep.ipynb\" target=\"_parent\"><img src=\"https://colab.research.google.com/assets/colab-badge.svg\" alt=\"Open In Colab\"/></a>"
      ]
    },
    {
      "cell_type": "code",
      "execution_count": null,
      "metadata": {
        "colab": {
          "base_uri": "https://localhost:8080/"
        },
        "id": "ZzIhl6iXGC6c",
        "outputId": "25230183-b625-4da2-d08b-462427923f07"
      },
      "outputs": [
        {
          "output_type": "stream",
          "name": "stdout",
          "text": [
            "Archive:  train.csv.zip\n",
            "  inflating: train.csv               \n"
          ]
        }
      ],
      "source": [
        "!unzip train.csv.zip"
      ]
    },
    {
      "cell_type": "code",
      "source": [
        "!pip install transformers"
      ],
      "metadata": {
        "id": "NZab9zn9Gq8X",
        "colab": {
          "base_uri": "https://localhost:8080/"
        },
        "outputId": "9da694cd-03e2-4acf-ff69-667cbc84f12d"
      },
      "execution_count": null,
      "outputs": [
        {
          "output_type": "stream",
          "name": "stdout",
          "text": [
            "Looking in indexes: https://pypi.org/simple, https://us-python.pkg.dev/colab-wheels/public/simple/\n",
            "Collecting transformers\n",
            "  Downloading transformers-4.26.1-py3-none-any.whl (6.3 MB)\n",
            "\u001b[2K     \u001b[90m━━━━━━━━━━━━━━━━━━━━━━━━━━━━━━━━━━━━━━━━\u001b[0m \u001b[32m6.3/6.3 MB\u001b[0m \u001b[31m70.0 MB/s\u001b[0m eta \u001b[36m0:00:00\u001b[0m\n",
            "\u001b[?25hCollecting huggingface-hub<1.0,>=0.11.0\n",
            "  Downloading huggingface_hub-0.12.1-py3-none-any.whl (190 kB)\n",
            "\u001b[2K     \u001b[90m━━━━━━━━━━━━━━━━━━━━━━━━━━━━━━━━━━━━━━\u001b[0m \u001b[32m190.3/190.3 KB\u001b[0m \u001b[31m17.3 MB/s\u001b[0m eta \u001b[36m0:00:00\u001b[0m\n",
            "\u001b[?25hRequirement already satisfied: pyyaml>=5.1 in /usr/local/lib/python3.8/dist-packages (from transformers) (6.0)\n",
            "Requirement already satisfied: filelock in /usr/local/lib/python3.8/dist-packages (from transformers) (3.9.0)\n",
            "Requirement already satisfied: numpy>=1.17 in /usr/local/lib/python3.8/dist-packages (from transformers) (1.22.4)\n",
            "Requirement already satisfied: regex!=2019.12.17 in /usr/local/lib/python3.8/dist-packages (from transformers) (2022.6.2)\n",
            "Requirement already satisfied: packaging>=20.0 in /usr/local/lib/python3.8/dist-packages (from transformers) (23.0)\n",
            "Requirement already satisfied: requests in /usr/local/lib/python3.8/dist-packages (from transformers) (2.25.1)\n",
            "Collecting tokenizers!=0.11.3,<0.14,>=0.11.1\n",
            "  Downloading tokenizers-0.13.2-cp38-cp38-manylinux_2_17_x86_64.manylinux2014_x86_64.whl (7.6 MB)\n",
            "\u001b[2K     \u001b[90m━━━━━━━━━━━━━━━━━━━━━━━━━━━━━━━━━━━━━━━━\u001b[0m \u001b[32m7.6/7.6 MB\u001b[0m \u001b[31m92.4 MB/s\u001b[0m eta \u001b[36m0:00:00\u001b[0m\n",
            "\u001b[?25hRequirement already satisfied: tqdm>=4.27 in /usr/local/lib/python3.8/dist-packages (from transformers) (4.64.1)\n",
            "Requirement already satisfied: typing-extensions>=3.7.4.3 in /usr/local/lib/python3.8/dist-packages (from huggingface-hub<1.0,>=0.11.0->transformers) (4.5.0)\n",
            "Requirement already satisfied: urllib3<1.27,>=1.21.1 in /usr/local/lib/python3.8/dist-packages (from requests->transformers) (1.24.3)\n",
            "Requirement already satisfied: certifi>=2017.4.17 in /usr/local/lib/python3.8/dist-packages (from requests->transformers) (2022.12.7)\n",
            "Requirement already satisfied: idna<3,>=2.5 in /usr/local/lib/python3.8/dist-packages (from requests->transformers) (2.10)\n",
            "Requirement already satisfied: chardet<5,>=3.0.2 in /usr/local/lib/python3.8/dist-packages (from requests->transformers) (4.0.0)\n",
            "Installing collected packages: tokenizers, huggingface-hub, transformers\n",
            "Successfully installed huggingface-hub-0.12.1 tokenizers-0.13.2 transformers-4.26.1\n"
          ]
        }
      ]
    },
    {
      "cell_type": "code",
      "source": [
        "import pandas as pd\n",
        "import numpy as np\n",
        "from transformers import AutoTokenizer, AutoModelForSequenceClassification\n",
        "import torch\n",
        "from torch.utils.data import DataLoader, Dataset"
      ],
      "metadata": {
        "id": "wi6qCWbAGY4Q"
      },
      "execution_count": null,
      "outputs": []
    },
    {
      "cell_type": "code",
      "source": [
        "data = pd.read_csv(\"train.csv\")"
      ],
      "metadata": {
        "id": "cnVKugm7H-pq"
      },
      "execution_count": null,
      "outputs": []
    },
    {
      "cell_type": "code",
      "source": [
        "device = torch.device('cuda' if torch.cuda.is_available() else 'cpu')"
      ],
      "metadata": {
        "id": "bPov6eNtGm5Q"
      },
      "execution_count": null,
      "outputs": []
    },
    {
      "cell_type": "code",
      "source": [
        "data.head()"
      ],
      "metadata": {
        "colab": {
          "base_uri": "https://localhost:8080/",
          "height": 270
        },
        "id": "JPR0cTuMH8zQ",
        "outputId": "730d197e-7df7-4745-88ab-8f59896ea965"
      },
      "execution_count": null,
      "outputs": [
        {
          "output_type": "execute_result",
          "data": {
            "text/plain": [
              "        ID           protein_name  \\\n",
              "0  train_0   sp|Q9J523|V212_FOWPN   \n",
              "1  train_1  sp|Q14990|ODFP1_HUMAN   \n",
              "2  train_2  sp|Q9C994|DTX14_ARATH   \n",
              "3  train_3   sp|Q58425|CARA_METJA   \n",
              "4  train_4   sp|P78814|SRP2_SCHPO   \n",
              "\n",
              "                                            sequence  biological_process  \\\n",
              "0  MPQNKVLSFPLPEGTLLEDITKNKWILGKQLGSGGFGLVYQVSCKS...                   0   \n",
              "1  MAALSCLLDSVRRDIKKVDRELRQLRCIDEFSTRCLCDLYMHPYCC...                   0   \n",
              "2  MDSAEKGLLVVSDREEVNKKDGFLRETKKLSYIAGPMIAVNSSMYV...                   0   \n",
              "3  MEAVLILEDGTILKGKGFGAEKEVFGELVFTTVMTGYVEVLTDPSY...                   0   \n",
              "4  MSETRLFVGRIPPQATREDMMDFFKGYGQILDCKLMNGFGFVEVED...                   0   \n",
              "\n",
              "   cellular_component  molecular_function  \n",
              "0                   0                   1  \n",
              "1                   0                   1  \n",
              "2                   0                   1  \n",
              "3                   1                   0  \n",
              "4                   0                   1  "
            ],
            "text/html": [
              "\n",
              "  <div id=\"df-77c789c3-eb31-48eb-8af8-7f64aa1007cd\">\n",
              "    <div class=\"colab-df-container\">\n",
              "      <div>\n",
              "<style scoped>\n",
              "    .dataframe tbody tr th:only-of-type {\n",
              "        vertical-align: middle;\n",
              "    }\n",
              "\n",
              "    .dataframe tbody tr th {\n",
              "        vertical-align: top;\n",
              "    }\n",
              "\n",
              "    .dataframe thead th {\n",
              "        text-align: right;\n",
              "    }\n",
              "</style>\n",
              "<table border=\"1\" class=\"dataframe\">\n",
              "  <thead>\n",
              "    <tr style=\"text-align: right;\">\n",
              "      <th></th>\n",
              "      <th>ID</th>\n",
              "      <th>protein_name</th>\n",
              "      <th>sequence</th>\n",
              "      <th>biological_process</th>\n",
              "      <th>cellular_component</th>\n",
              "      <th>molecular_function</th>\n",
              "    </tr>\n",
              "  </thead>\n",
              "  <tbody>\n",
              "    <tr>\n",
              "      <th>0</th>\n",
              "      <td>train_0</td>\n",
              "      <td>sp|Q9J523|V212_FOWPN</td>\n",
              "      <td>MPQNKVLSFPLPEGTLLEDITKNKWILGKQLGSGGFGLVYQVSCKS...</td>\n",
              "      <td>0</td>\n",
              "      <td>0</td>\n",
              "      <td>1</td>\n",
              "    </tr>\n",
              "    <tr>\n",
              "      <th>1</th>\n",
              "      <td>train_1</td>\n",
              "      <td>sp|Q14990|ODFP1_HUMAN</td>\n",
              "      <td>MAALSCLLDSVRRDIKKVDRELRQLRCIDEFSTRCLCDLYMHPYCC...</td>\n",
              "      <td>0</td>\n",
              "      <td>0</td>\n",
              "      <td>1</td>\n",
              "    </tr>\n",
              "    <tr>\n",
              "      <th>2</th>\n",
              "      <td>train_2</td>\n",
              "      <td>sp|Q9C994|DTX14_ARATH</td>\n",
              "      <td>MDSAEKGLLVVSDREEVNKKDGFLRETKKLSYIAGPMIAVNSSMYV...</td>\n",
              "      <td>0</td>\n",
              "      <td>0</td>\n",
              "      <td>1</td>\n",
              "    </tr>\n",
              "    <tr>\n",
              "      <th>3</th>\n",
              "      <td>train_3</td>\n",
              "      <td>sp|Q58425|CARA_METJA</td>\n",
              "      <td>MEAVLILEDGTILKGKGFGAEKEVFGELVFTTVMTGYVEVLTDPSY...</td>\n",
              "      <td>0</td>\n",
              "      <td>1</td>\n",
              "      <td>0</td>\n",
              "    </tr>\n",
              "    <tr>\n",
              "      <th>4</th>\n",
              "      <td>train_4</td>\n",
              "      <td>sp|P78814|SRP2_SCHPO</td>\n",
              "      <td>MSETRLFVGRIPPQATREDMMDFFKGYGQILDCKLMNGFGFVEVED...</td>\n",
              "      <td>0</td>\n",
              "      <td>0</td>\n",
              "      <td>1</td>\n",
              "    </tr>\n",
              "  </tbody>\n",
              "</table>\n",
              "</div>\n",
              "      <button class=\"colab-df-convert\" onclick=\"convertToInteractive('df-77c789c3-eb31-48eb-8af8-7f64aa1007cd')\"\n",
              "              title=\"Convert this dataframe to an interactive table.\"\n",
              "              style=\"display:none;\">\n",
              "        \n",
              "  <svg xmlns=\"http://www.w3.org/2000/svg\" height=\"24px\"viewBox=\"0 0 24 24\"\n",
              "       width=\"24px\">\n",
              "    <path d=\"M0 0h24v24H0V0z\" fill=\"none\"/>\n",
              "    <path d=\"M18.56 5.44l.94 2.06.94-2.06 2.06-.94-2.06-.94-.94-2.06-.94 2.06-2.06.94zm-11 1L8.5 8.5l.94-2.06 2.06-.94-2.06-.94L8.5 2.5l-.94 2.06-2.06.94zm10 10l.94 2.06.94-2.06 2.06-.94-2.06-.94-.94-2.06-.94 2.06-2.06.94z\"/><path d=\"M17.41 7.96l-1.37-1.37c-.4-.4-.92-.59-1.43-.59-.52 0-1.04.2-1.43.59L10.3 9.45l-7.72 7.72c-.78.78-.78 2.05 0 2.83L4 21.41c.39.39.9.59 1.41.59.51 0 1.02-.2 1.41-.59l7.78-7.78 2.81-2.81c.8-.78.8-2.07 0-2.86zM5.41 20L4 18.59l7.72-7.72 1.47 1.35L5.41 20z\"/>\n",
              "  </svg>\n",
              "      </button>\n",
              "      \n",
              "  <style>\n",
              "    .colab-df-container {\n",
              "      display:flex;\n",
              "      flex-wrap:wrap;\n",
              "      gap: 12px;\n",
              "    }\n",
              "\n",
              "    .colab-df-convert {\n",
              "      background-color: #E8F0FE;\n",
              "      border: none;\n",
              "      border-radius: 50%;\n",
              "      cursor: pointer;\n",
              "      display: none;\n",
              "      fill: #1967D2;\n",
              "      height: 32px;\n",
              "      padding: 0 0 0 0;\n",
              "      width: 32px;\n",
              "    }\n",
              "\n",
              "    .colab-df-convert:hover {\n",
              "      background-color: #E2EBFA;\n",
              "      box-shadow: 0px 1px 2px rgba(60, 64, 67, 0.3), 0px 1px 3px 1px rgba(60, 64, 67, 0.15);\n",
              "      fill: #174EA6;\n",
              "    }\n",
              "\n",
              "    [theme=dark] .colab-df-convert {\n",
              "      background-color: #3B4455;\n",
              "      fill: #D2E3FC;\n",
              "    }\n",
              "\n",
              "    [theme=dark] .colab-df-convert:hover {\n",
              "      background-color: #434B5C;\n",
              "      box-shadow: 0px 1px 3px 1px rgba(0, 0, 0, 0.15);\n",
              "      filter: drop-shadow(0px 1px 2px rgba(0, 0, 0, 0.3));\n",
              "      fill: #FFFFFF;\n",
              "    }\n",
              "  </style>\n",
              "\n",
              "      <script>\n",
              "        const buttonEl =\n",
              "          document.querySelector('#df-77c789c3-eb31-48eb-8af8-7f64aa1007cd button.colab-df-convert');\n",
              "        buttonEl.style.display =\n",
              "          google.colab.kernel.accessAllowed ? 'block' : 'none';\n",
              "\n",
              "        async function convertToInteractive(key) {\n",
              "          const element = document.querySelector('#df-77c789c3-eb31-48eb-8af8-7f64aa1007cd');\n",
              "          const dataTable =\n",
              "            await google.colab.kernel.invokeFunction('convertToInteractive',\n",
              "                                                     [key], {});\n",
              "          if (!dataTable) return;\n",
              "\n",
              "          const docLinkHtml = 'Like what you see? Visit the ' +\n",
              "            '<a target=\"_blank\" href=https://colab.research.google.com/notebooks/data_table.ipynb>data table notebook</a>'\n",
              "            + ' to learn more about interactive tables.';\n",
              "          element.innerHTML = '';\n",
              "          dataTable['output_type'] = 'display_data';\n",
              "          await google.colab.output.renderOutput(dataTable, element);\n",
              "          const docLink = document.createElement('div');\n",
              "          docLink.innerHTML = docLinkHtml;\n",
              "          element.appendChild(docLink);\n",
              "        }\n",
              "      </script>\n",
              "    </div>\n",
              "  </div>\n",
              "  "
            ]
          },
          "metadata": {},
          "execution_count": 7
        }
      ]
    },
    {
      "cell_type": "code",
      "source": [
        "#data[\"sequence\"] = data[\"sequence\"].apply(lambda x: \" \".join(list(x)))"
      ],
      "metadata": {
        "id": "x7wbXyXlfagn"
      },
      "execution_count": null,
      "outputs": []
    },
    {
      "cell_type": "code",
      "source": [
        "data[\"label\"] = data.iloc[:, 3:].apply(lambda x: ''.join(x.astype(str)), axis=1)"
      ],
      "metadata": {
        "id": "jyOZuBeeU0V_"
      },
      "execution_count": null,
      "outputs": []
    },
    {
      "cell_type": "code",
      "source": [
        "data[\"label\"] = data.label.map({'001':0 ,'010': 1, '100': 2})"
      ],
      "metadata": {
        "id": "kAucbY8CWP7A"
      },
      "execution_count": null,
      "outputs": []
    },
    {
      "cell_type": "code",
      "source": [
        "sequences = data.sequence.values\n",
        "labels = data.label.values"
      ],
      "metadata": {
        "id": "tIW1r1fOI3HE"
      },
      "execution_count": null,
      "outputs": []
    },
    {
      "cell_type": "code",
      "source": [
        "from sklearn.model_selection import train_test_split\n",
        "train_sequences, test_sequences, train_labels, test_labels = train_test_split(sequences, labels, test_size=0.2, random_state=42)"
      ],
      "metadata": {
        "id": "R7hJItSpdIfN"
      },
      "execution_count": null,
      "outputs": []
    },
    {
      "cell_type": "code",
      "source": [
        "class ProteinSequenceDataset(Dataset):\n",
        "    def __init__(self, sequences, labels, tokenizer):\n",
        "        self.sequences = sequences\n",
        "        self.labels = labels\n",
        "        self.tokenizer = tokenizer\n",
        "\n",
        "    def __len__(self):\n",
        "        return len(self.sequences)\n",
        "\n",
        "    def __getitem__(self, idx):\n",
        "        sequence = self.sequences[idx]\n",
        "        label = self.labels[idx]\n",
        "\n",
        "        return {'sequence': sequence  'labels': torch.tensor(label)}"
      ],
      "metadata": {
        "id": "WKp6cBPNz6eE"
      },
      "execution_count": null,
      "outputs": []
    },
    {
      "cell_type": "code",
      "source": [
        "import torch.nn as nn\n",
        "from transformers import AutoTokenizer, AutoModel\n",
        "\n",
        "class ProtbertLSTM(nn.Module):\n",
        "    def __init__(self, num_classes=3, hidden_dim=128):\n",
        "        super().__init__()\n",
        "        self.tokenizer = AutoTokenizer.from_pretrained(\"Rostlab/prot_bert_bfd\")\n",
        "        self.encoder = AutoModel.from_pretrained(\"Rostlab/prot_bert_bfd\")\n",
        "        self.linear = nn.Linear(768, 128)\n",
        "        self.lstm = nn.LSTM(input_size=128, hidden_size=hidden_dim, num_layers=1, batch_first=True)\n",
        "        self.fc = nn.Linear(hidden_dim, num_classes)\n",
        "\n",
        "    def forward(self, sequences):\n",
        "        # Encode protein sequences using ProtBERT\n",
        "        encoded = self.tokenizer(sequences, padding=True, truncation=True, return_tensors='pt')\n",
        "        input_ids = encoded['input_ids']\n",
        "        attention_mask = encoded['attention_mask']\n",
        "\n",
        "        # Get embeddings from the ProtBERT encoder\n",
        "        with torch.no_grad():\n",
        "            model_outputs = self.encoder(input_ids, attention_mask=attention_mask)\n",
        "        embeddings = self.linear(model_outputs[0])\n",
        "\n",
        "        # Feed embeddings into LSTM\n",
        "        lstm_output, _ = self.lstm(embeddings)\n",
        "\n",
        "        # Classify using fully connected layer\n",
        "        final_output = self.fc(lstm_output[:, -1, :])\n",
        "\n",
        "        return final_output"
      ],
      "metadata": {
        "id": "z_f2SSp7Ribl"
      },
      "execution_count": null,
      "outputs": []
    },
    {
      "cell_type": "code",
      "source": [
        "model = ProtbertLSTM()\n",
        "device = torch.device(\"cuda\" if torch.cuda.is_available() else \"cpu\")\n",
        "model.to(device)"
      ],
      "metadata": {
        "id": "G4RR4KcVaeXT"
      },
      "execution_count": null,
      "outputs": []
    },
    {
      "cell_type": "code",
      "source": [
        "criterion = nn.CrossEntropyLoss()\n",
        "optimizer = torch.optim.Adam(model.parameters(), lr=1e-4)"
      ],
      "metadata": {
        "id": "zCOF5xPFahV1"
      },
      "execution_count": null,
      "outputs": []
    },
    {
      "cell_type": "code",
      "source": [
        "train_dataset = ProteinSequenceDataset(train_sequences, train_labels, tokenizer)\n",
        "train_dataloader = DataLoader(train_dataset, batch_size=4, shuffle=True)\n",
        "val_loader = DataLoader(test_sequences, batch_size=32, shuffle=False)"
      ],
      "metadata": {
        "id": "mtLMI7yuakwf",
        "colab": {
          "base_uri": "https://localhost:8080/",
          "height": 201
        },
        "outputId": "2500ea77-ce09-4d5f-b7d7-53fac340da0d"
      },
      "execution_count": null,
      "outputs": [
        {
          "output_type": "error",
          "ename": "NameError",
          "evalue": "ignored",
          "traceback": [
            "\u001b[0;31m---------------------------------------------------------------------------\u001b[0m",
            "\u001b[0;31mNameError\u001b[0m                                 Traceback (most recent call last)",
            "\u001b[0;32m<ipython-input-40-97892c6e2d7f>\u001b[0m in \u001b[0;36m<module>\u001b[0;34m\u001b[0m\n\u001b[0;32m----> 1\u001b[0;31m \u001b[0mtrain_dataset\u001b[0m \u001b[0;34m=\u001b[0m \u001b[0mProteinSequenceDataset\u001b[0m\u001b[0;34m(\u001b[0m\u001b[0mtrain_sequences\u001b[0m\u001b[0;34m,\u001b[0m \u001b[0mtrain_labels\u001b[0m\u001b[0;34m,\u001b[0m \u001b[0mtokenizer\u001b[0m\u001b[0;34m)\u001b[0m\u001b[0;34m\u001b[0m\u001b[0;34m\u001b[0m\u001b[0m\n\u001b[0m\u001b[1;32m      2\u001b[0m \u001b[0mtrain_dataloader\u001b[0m \u001b[0;34m=\u001b[0m \u001b[0mDataLoader\u001b[0m\u001b[0;34m(\u001b[0m\u001b[0mtrain_dataset\u001b[0m\u001b[0;34m,\u001b[0m \u001b[0mbatch_size\u001b[0m\u001b[0;34m=\u001b[0m\u001b[0;36m4\u001b[0m\u001b[0;34m,\u001b[0m \u001b[0mshuffle\u001b[0m\u001b[0;34m=\u001b[0m\u001b[0;32mTrue\u001b[0m\u001b[0;34m)\u001b[0m\u001b[0;34m\u001b[0m\u001b[0;34m\u001b[0m\u001b[0m\n\u001b[1;32m      3\u001b[0m \u001b[0mval_loader\u001b[0m \u001b[0;34m=\u001b[0m \u001b[0mDataLoader\u001b[0m\u001b[0;34m(\u001b[0m\u001b[0mtest_sequences\u001b[0m\u001b[0;34m,\u001b[0m \u001b[0mbatch_size\u001b[0m\u001b[0;34m=\u001b[0m\u001b[0;36m32\u001b[0m\u001b[0;34m,\u001b[0m \u001b[0mshuffle\u001b[0m\u001b[0;34m=\u001b[0m\u001b[0;32mFalse\u001b[0m\u001b[0;34m)\u001b[0m\u001b[0;34m\u001b[0m\u001b[0;34m\u001b[0m\u001b[0m\n",
            "\u001b[0;31mNameError\u001b[0m: name 'tokenizer' is not defined"
          ]
        }
      ]
    },
    {
      "cell_type": "code",
      "source": [
        "def train_epoch(model, dataloader, criterion, optimizer, device):\n",
        "    model.train()\n",
        "    train_loss = 0.0\n",
        "    num_correct = 0\n",
        "    num_total = 0\n",
        "\n",
        "    for batch in dataloader:\n",
        "        print(batch)\n",
        "        sequences, labels = batch\n",
        "        sequences = sequences.to(device)\n",
        "        labels = labels.to(device)\n",
        "\n",
        "        # Zero the parameter gradients\n",
        "        optimizer.zero_grad()\n",
        "\n",
        "        # Forward pass\n",
        "        outputs = model(sequences)\n",
        "        loss = criterion(outputs, labels)\n",
        "        train_loss += loss.item()\n",
        "\n",
        "        # Backward pass and optimization\n",
        "        loss.backward()\n",
        "        optimizer.step()\n",
        "\n",
        "        # Calculate accuracy\n",
        "        _, predictions = torch.max(outputs, dim=1)\n",
        "        num_correct += torch.sum(predictions == labels)\n",
        "        num_total += len(labels)\n",
        "\n",
        "    # Calculate metrics\n",
        "    avg_loss = train_loss / len(dataloader)\n",
        "    avg_acc = num_correct / num_total\n",
        "    return avg_loss, avg_acc"
      ],
      "metadata": {
        "id": "HXgb1zS9zOdP"
      },
      "execution_count": null,
      "outputs": []
    },
    {
      "cell_type": "code",
      "source": [
        "def evaluate(model, dataloader, criterion, device):\n",
        "    model.eval()\n",
        "    val_loss = 0.0\n",
        "    num_correct = 0\n",
        "    num_total = 0\n",
        "\n",
        "    with torch.no_grad():\n",
        "        for batch in dataloader:\n",
        "            print(batch)\n",
        "            sequences, labels = batch\n",
        "            sequences = sequences.to(device)\n",
        "            labels = labels.to(device)\n",
        "\n",
        "            # Forward pass\n",
        "            outputs = model(sequences)\n",
        "            loss = criterion(outputs, labels)\n",
        "            val_loss += loss.item()\n",
        "\n",
        "            # Calculate accuracy\n",
        "            _, predictions = torch.max(outputs, dim=1)\n",
        "            num_correct += torch.sum(predictions == labels)\n",
        "            num_total += len(labels)\n",
        "\n",
        "    # Calculate metrics\n",
        "    avg_loss = val_loss / len(dataloader)\n",
        "    avg_acc = num_correct / num_total\n",
        "    return avg_loss, avg_acc"
      ],
      "metadata": {
        "id": "d9t6CF1pzjKl"
      },
      "execution_count": null,
      "outputs": []
    },
    {
      "cell_type": "code",
      "source": [
        "num_epochs = 10\n",
        "for epoch in range(num_epochs):\n",
        "    # Train for one epoch\n",
        "    train_loss, train_acc = train_epoch(model, train_loader, criterion, optimizer, device)\n",
        "    \n",
        "    # Evaluate on validation set\n",
        "    val_loss, val_acc = evaluate(model, val_loader, criterion, device)\n",
        "    \n",
        "    # Print training and validation metrics\n",
        "    print(f\"Epoch {epoch+1}/{num_epochs}:\")\n",
        "    print(f\"Train Loss: {train_loss:.4f}, Train Accuracy: {train_acc:.4f}\")\n",
        "    print(f\"Val Loss: {val_loss:.4f}, Val Accuracy: {val_acc:.4f}\")"
      ],
      "metadata": {
        "id": "J3NrQHIFaomw",
        "colab": {
          "base_uri": "https://localhost:8080/",
          "height": 394
        },
        "outputId": "886e7c97-afdd-4006-fff0-940851268154"
      },
      "execution_count": null,
      "outputs": [
        {
          "output_type": "stream",
          "name": "stdout",
          "text": [
            "['MAIWFARSKTLVSSLRHNLNLSTILIKRDYSHRPIFYTTSQLSSTAYLSPFGSLRHESTAVETQADHLVQQIDEVDAQELDFPGGKVGYTSEMKFIPESSSRRIPCYRVLDEDGRIIPDSDFIPVSEKLAVRMYEQMATLQVMDHIFYEAQRQGRISFYLTSVGEEAINIASAAALSPDDVVLPQYREPGVLLWRGFTLEEFANQCFGNKADYGKGRQMPIHYGSNRLNYFTISSPIATQLPQAAGVGYSLKMDKKNACTVTFIGDGGTSEGDFHAGLNFAAVMEAPVVFICRNNGWAISTHISEQFRSDGIVVKGQAYGIRSIRVDGNDALAVYSAVRSAREMAVTEQRPVLIEMMTYRVGHHSTSDDSTKYRAADEIQYWKMSRNPVNRFRKWVEDNGWWSEEDESKLRSNARKQLLQAIQAAEKWEKQPLTELFNDVYDVKPKNLEEQELGLKELVKKQPQDYPPGFHV', 'MSSAYCSSAVAVSAAATASSAATFNPLLSSHSNSQLFYRFTPKSFKLVANCPNPLILHSNIRRHRFFCAAETEASSADDEIQASVEEEEEVEEEGDEGEEEVEEEKQTTQASGEEGRLYVGNLPYTITSSELSQIFGEAGTVVDVQIVYDKVTDRSRGFGFVTMGSIEEAKEAMQMFNSSQIGGRTVKVNFPEVPRGGENEVMRTKIRDNNRSYVDSPHKVYAGNLGWNLTSQGLKDAFGDQPGVLGAKVIYERNTGRSRGFGFISFESAENVQSALATMNGVEVEGRALRLNLASEREKPTVSPPSVEEGETEEASLESNEVLSNVSA', 'MCCYLNLLMIQFESSHICHWFWNTPYRALQRAYKASKKVRNIHTNYIFCKSKPAFQRFGYNLDLYIDSILDESSFQIYWGLLEFKASRFVLTKFSNLIFKHNFHLLTQTDGNKLFSNSFDREQSLLFCDIHSTSLKIINRKLAWIEAALADLEMLRDNSSSTSITPILNKVYNVSLPMSLDSTSKRVAYESVGLVPRSITRTFARFQTELAGRSVSVVLPEFRLAKYQATASVQYMACLIFLPWVFSTICKIIFLQPLVSHYWDTMQTQVFFNASQEQRALRRLQQIEELLWLDIVIASVPNKHLQDIAGEIHNKTLELVDIYNRESICTILNLLTDWISITCLACLLTWGKKRLAIFNSWIQELFYSLSDTMKAFFILLLTDLCIGFHSPHGWEIIITLFLEHIGFAHNKYVVSCFVSTFPVILDTVLKYWIFRHLNRISPSIVVTYHTMNE', 'MADEDISLNEDQLLESMEETNGEQETEIVTETEEEGSMQIDPELEAIKARVKEMEEEAEKIKQMQSEVDKQMAGGSTTGLAAVPLSLEEKQEIDTRSVYVGNVDYGASAEELEAHFHGCGTINRVTILCNKADGHPKGFAYIEFGSKEFVETALAMNETLFRGRQIKVMSKRTNRPGLSTTNRFARGSFRGRGARASRACCHSTFRGARRAIRGYRGRANYYAPY', 'MAAPRDNVTLLFKLYCLAVMTLMAAVYTIALRYTRTSDKELYFSTTAVCITEVIKLLLSVGILAKETGSLGRFKASLRENVLGSPKELLKLSVPSLVYAVQNNMAFLALSNLDAAVYQVTYQLKIPCTALCTVLMLNRTLSKLQWVSVFMLCAGVTLVQWKPAQATKVVVEQNPLLGFGAIAIAVLCSGFAGVYFEKVLKSSDTSLWVRNIQMYLSGIIVTLAGVYLSDGAEIKEKGFFYGYTYYVWFVIFLASVGGLYTSVVVKYTDNIMKGFSAAAAIVLSTIASVMLFGLQITLTFALGTLLVCVSIYLYGLPRQDTTSIQQGETASKERVIGV', 'MTWDGLPTQPLLMLLMLLFAAGSESALAGCPGCGPGVQEEDAGSPADGCAETGGCFRREGQPCGVYIPKCAPGLQCQPRENEETPLRALLIGQGRCQRARGPSEETTKESKPHGGASRPRDRDRQKNPRTSAAPIRPSPVQDGEMGPCRRHLDSVLQQLQTEVFRGGANGLYVPNCDLRGFYRKQQCRSSQGNRRGPCWCVDPMGQPLPVSPDGQGSSQCSARSSG', 'MKEEIQNETAQTQLQREGRMFSFLFPVIEVIKVVMASVASVVFLGFGGVTLACSAVALAVSTPLFIIFSPILVPATIATTLLATGLGAGTTLGVTGMGLLMRLIKHPGKEGAASAPAAQPSFLSLLEMPNFIKSKMLERLIHIPGVGKKSEGRGESKGKKGKKGKSEHGRGKHEGEGKSKGRKGHRMGVNPENNPPPAGAPPTGSPPAAPAAPEAPAAPAAPAAPAAPAAPAAPAAPEDPAAPAAPEAPATPAAPPAPAAAPAPAAPAAPPAPAAPPRPPSFLSLLEMPSFIKSKLIEALINIPGFGKKSNDRGKSKGGKKSKGKGKSNGRGKHEGEGKSKSRKSKSRGKDKEKSKGKGIFGRSSRKGSSDDESS', 'MIASKETKEKIRNFIGGFASGAASTLAGHPFDTLKVRLQTEGSTGRFRGLAHCFTTTIKEEGFFALYKGVTPPLLGMSIINSCMFGAMNIVKSKIHTDKSTPISLGEIMVSGAITGWIVSFVACPIETVKSKLQVQYTGVKLYNGPIDCIKKIGIRGLYKALIPTGFQRNSLYAYFGCYELAQRYLRREDGSMTMGRSFIAGGIAGTGFWLTNFPFDVIRSRIMTMPYNESPPRYKGMIDCAKHIYRVDGLKGFWKGFSPCLLRTFPANGATFVAYECVMKFFPM', 'MSVDQTLYSRARAAMADPTCAGPATFTAAGAFSQPDLMAFSLPEEEPIWGFDTIAPSMASWQGKMEQQTFCNPNMERGLKNTHVRNGQPTPPPFDDKKLQTPMGEMYPVAQYAFNSSPPEYAPPKHRSSLSEQSQTDGYGVSTRRRKASAVDQSEQQQDREKREKFLERNRLAASKCRQKKKEHTKLLETRFREVSSKKGELESEIEHLRSEVLNLKNEMLRHAQCGDEAIKIHLAQMVRLITSKDTPNRDLVSPMRSPEQMTASTPHGLSFGFDGPMQLPSEMGSPLDQRRDSEQSIMTESSYTFSTDDSFEELINV', 'MDFVKELKSSQDYMNNELTYGAHNYDPIPVVLKRGKGVFVYDIEDRRYYDFLSAYSSVNQGHCHPDILNAMINQAKKLTICSRAFFSDSLGVCERYLTNLFGYDKVLMMNTGAEASETAYKLCRKWGYEVKKIPENSAKIIVCNNNFSGRTLGCVSASTDKKCKNNFGPFVPNFLKVPYDDLEALEKELQDPNVCAFIVEPVQGEAGVIVPSDSYFPGVASLCKKYNVLFVADEVQTGLGRTGKLLCTHHYGVKPDVILLGKALSGGHYPISAILANDDVMLVLKPGEHGSTYGGNPLAAAICVEALKVLINEKLCENADKLGAPFLQNLKEQLKDSKVVREVRGKGLLCAIEFKNDLVNVWDICLKFKENGLITRSVHDKTVRLTPPLCITKEQLDECTEIIVKTVKFFDDNL', 'MVKVTFNSALAQKEAKKDEPKSGEEALIIPPDAVAVDCKDPDDVVPVGQRRAWCWCMCFGLAFMLAGVILGGAYLYKYFALQPDDVYYCGIKYIKDDVILNEPSADAPAALYQTIEENIKIFEEEEVEFISVPVPEFADSDPANIVHDFNKKLTAYLDLNLDKCYVIPLNTSIVMPPRNLLELLINIKAGTYLPQSYLIHEHMVITDRIENIDHLGFFIYRLCHDKETYKLQRRETIKGIQKREASNCFAIRHFENKFAVETLICS', 'MSTDSESKRRAYREEKEGARKKSVKLAPEATPESKPDLPRKRYYRQRAHSNPFSDHSLDYPRNPDAMEWGKLYPEYANTDKKVEIADIGCGYGGLMIGLAKEYPQTMILGMEIRVQVTQYVEDRIIALREKHEKDEVNYQNIAVLRGNAMKFLPNFFHRGQLKKMFFCFPDPHFKQRKHKARIITTTLLSEYAYVLREEGVLYTITDVEDLHIWMVKHLDDHPLFERLDKEWEKNDKCVSIMYGSTEEGQKVARNKGSKFVACFRRVANPEE', 'MKEVAKPLQERFFIPHEIKVMGRWSTEDVEVKDPSLKPYINLEPRLLPHTHGRHAKKHFGKANVHIVERLINKVMRSGGSHYKVAGHFMRREHRSLNSKKVRAYEVVKEAFKIIEKRTGKNPIQVLVWAIENAAPREDTTSVMFGGIRYHVAVDISPLRRLDVALRNIALGASAKCYRTKMSFAEALAEEIILAANKDPKSYAYSKKLEIERIAESSR', 'MTSNGTNGSATAYHASSTQEAIQAENDFAAHNYHPLPVVFARAQGTSVWDPEGRHYLDFLSAYSAVNQGHCHPKLVAALVDQASRLTLSSRAFYNDVFPKFAEMVTKYFGFDMVLPMNTGAEAVETGIKIARKWGYKVKGIPENEAIILSAENNFHGRTMAAISLSSDPESRENYGPYVPNIGCTIPGTEKPITYNDKAALREAFEKAGSNLAAFLVEPIQGEAGIIVPDDDYLQLARSLCDQHNVLLICDEIQTGIARTGKLLCHEWSGIKPDMVLLGKAISGGMYPVSCVLGRKDVMLTVEPGTHGSTYGGNPLACAVAIRALEVVQEENMVERAEKLGQAFRSGLEAIQNPIIQTVRGKGLLNAIVIDESKTNGHTAWDLCMLMKEKGLLAKPTHQNIIRLAPPLVITEEEIAKALEIIKAAVAELPNLKGAAEDKVVPPPEKKVKITLEN', 'MLWRNEITEFMDQLSKYSQEILKTFKQLRPSEYKQYNEFLTQVTPLLQKTPEKIPEEVDHIFDYLDNVEKICELLVHASSIIISSKIREQVKHGMSFSYKTDLDSLAGILSQKQYVLIHLSKNIAAHYFNTCLNQGKSRLDLKAASVFYNSRPRTASSAELYRKMLYAYGSLQEINYYTEKARNKTLDVEESDSMATIERTARHNLSLMHPLEAMGLTFGATNTDADPEDLKDKTVINLTLPQATESVTYHLNSLMQLKKVSTTSGLNTNILKAFDNIISTPVKKNKMASKLAPGMDVVFTSDNGKTFFTKNVLSKNMLAGPKERVFAYNNLISNLNNSCFIQNHNDFLRQQDSWPFYDAHNFTNKFLMQPIFSGQTRPRLQGAMEAAHVETHLTAFLQSIQPSRPQDPSILASPKLSALILN', 'MPPLVFDIDHIKLLRKWGICGVLSGTLPTAAQQNVFLSVPLRLMLEDVLWLHLNNLADVKLIRQEGDEIMEGITLERGAKLSKIVNDRLNKSFEYQRKFKKDEHIAKLKKIGRINDKTTAEELQRLDKSSNNDQLIESSLFIDIANTSMILRDIRSDSDSLSRDDISDLLFKQYRQAGKMQTYFLYKALRDQGYVLSPGGRFGGKFIAYPGDPLRFHSHLTIQDAIDYHNEPIDLISMISGARLGTTVKKLWVIGGVAEETKETHFFSIEWAGFG', 'MPGDSRRIRGPEESQSPLLYVLSEEGGKAAGRRGRGPSEPRPVFVRAGLLSQAKGSAYLEAGSGGTKVLCAVHGPRERGMGGERAETRGRLLCDLRWAPFSRRGPWSGSCPAGPSPRQAGLQLQESLEPAVRLDRYPRAEVIVWVLVLEDRGSALPAAVSCASLALADAGIEMFDLALGCGLSRGPGGELLLDPDDDEEEAGSGGTMSLSLLPTLNQVSGLISSGEWEGESSEEAVRLCMEGCQRLYPVLHQCLVKATKRKIPVPQPDTN', 'MRTSILSMLALGAAAVSAAPAAAAAPAELVERGSSCTFTSASAAKAGKKSCSSIVLDNIKVPAGETLDLSNLKSGTKVTFKGETTFGYKEWKGPLIRFSGKNIEVNGASGHVINGGGASWWDGKGTNGGKTKPKFFYAHSLDDSTITGLNVKNTPVQGFSVQADNLVLDHITIDNTDGDKTNGGHNTDAFDVGESTYITISNANIKNQDDCLAINSGENIIFTGGTCSGGHGLSIGSVGGRDDNTVKNVTISDSTVSNSDNGIRIKTIYKAKGEVADVTFSNIELSNIAKYGIVIEQDYENGSPTGKPTTGVPITGLTVEKVTGSVKSSGTDVYILCGSGSCSDWTWSGNKVSGGKTSSKCKNVPSGASC', 'MATNFLAHEKIWFDKFKYDDAERRFYEQMNGPVAGASRQENGASVILRDIARARENIQKSLAGSSGPGASSGTSGDHGELVVRIASLEVENQSLRGVVQELQQAISKLEARLNVLEKSSPGHRATAPQTQHVSPMRQVEPPAKKPATPAEDDEDDDIDLFGSDNEEEDKEAAQLREERLRQYAEKKAKKPALVAKSSILLDVKPWDDETDMAQLEACVRSIQLDGLVWGASKLVPVGYGIRKLQIQCVVEDDKVGTDLLEEEITKFEEHVQSVDIAAFNKI', 'MFCVQNLPRSSALPLQSFKSHQRRPPCSVNTLGVMSNVNLHRSMAVKAISGPTSSAETSDANVEEEKSETYSTNMTEAMGAVLTYRHELGINYNFIRPDLIVGSCLQTPEDVDKLRSIGVKTIFCLQQNSDLEYFGVDINGIREYAKTYDDIQHLRAEIRDFDAFDLRVRLPAVVSKLYKAINRNGGVTYVHCTAGLGRAPAVTLAYMFWVQGYKLIEAHNLLQSKRSCFPKLDAIKSAAADILTGLRKKVVTLTWKNPDCTTLEISGLDIGWGQRIPLQFDEEQGLWILRRELAEGCYEYKYIVDGEWTINENELVTSANKDGHVNNFVQVFDDNPDSFNANLRKRLTGDDPDLSMDERLKIRQFLESIPDEEQ', 'MSYDQIEVPDDGEKITVDEETGELSVPDNPIIPIIHGDGIGTDVGPAAQKVLDAAAEATGRSVSWMRVYAGSSARDKYDENLPEDTVSAIRNHRVAIKGPLTTPVGAGFRSLNVALRKKLDLYANVRPTYHLDGVPSPVKNPSAMDMVTFRENTEDVYAGIEWEAGTDEVQKVKEFVEEEMGADGVIHDGPVGIGIKPITEFGTKRLVREAIEYALENDRPSVTLVHKGNIMKFTEGAFRDWGYELAEEEFGDVTITEDELWEEYDGERPEDKVVVKDRIADNMLQQLLTRTADYDVIATMNLNGDYMSDAAGAQIGGLGIAPGANFGEGLCLAEPVHGSAPKYAGEDKVNPTAMILSGRLMFEYMGWKDAGKLIRDAVEKTISDGDVTYDLERQIEGGNKLATSEYADKVVENIKELA', 'MGPAGVAARPGRFFGVYLLYCLNPRYRGRVYVGFTVNTARRVQQHNGGRKKGGAWRTSGRGPWEMVLVVHGFPSSVAALRFEWAWQHPHASRRLAHVGPRLRGETAFAFHLRVLAHMLRAPPWARLPLTLRWVRPDLRQDLCLPPPPHVPLAFGPPPPQAPAPRRRAGPFDDAEPEPDQGDPGACCSLCAQTIQDEEGPLCCPHPGCLLRAHVICLAEEFLQEEPGQLLPLEGQCPCCEKSLLWGDLIWLCQMDTEKEVEDSELEEAHWTDLLET', 'MFLIWTFIVAVLAIQTKSVVAQSCRTPNGLNGNCVSVYECQALLAILNNQRRTQQDEKFLRDSQCGTKNSVPAVCCPCNAADGQQGNCVNINSCPYVLQLLKNPNEANLNYVRGSVCQGSEQQSICCVTAPQSTAVTTTPRPKRVHACQSEMTATPPNPEGKCCGRDIAVGDKIVGGAPASIDSYPWLVVIEYVRLERTMLLCGGALISGKYVLTAGHCVKGAILDVGTPKTVRLGEYNTTNPGRDCVSVSAGGTDCTDPLVKIGIEKTIPHPDYQPYHFLRKHDIGLIRLQSIAPFTDFIRPICLPSTDYTVNPPSKFALTVAGWGRYLQFDNGTVRSSKIKLHVTLPFVQRDVCEANQKPLRNGQRITLWKGQMCAGGEAGKDSCKGDSGGPLMYEHSKKYEAVGIVSFGPEKCGQIDIPGVYTNVYEYLPWIQNTIEP', 'MSTVPTDHGVAALGEFVFECGQSVPDLEVAYETHGEFDGDNVVLVCHALTGSQNVARSPAPERNEGTRGAGQAGQARAWWDDIVGPGKAIDTTKYYVVCANVPGSCYGTTGPASERPADLDLPEEPDHDRWGTAFPPVQVEDWARSQRRLLDHLGVGRLRAVVGGSVGGMNVLEWAKRYPDDVDRVVAIATAGRLDAQCLALDAVARRAIRADPNWNGGNYYGEGRPSPDEGLALARQIGHIMYLSKASMERKFGRRSAGRDSLTREEGDLGLPPEPTAAFFPYREVESYLDYQAEGFSERFDANSYLYLTRAMDEYDLSAGHGTDADALAAFEGEALLMSFTADWHFTVEQSSSLAAAFRDRDVPVAHHVIDSDHGHDAFLVEPEHVGPPLRDFLVEGVGGRAVSDDGGGGGNDSARPERDHAPVHASLFKG', 'MALDQRWDRFLVSWFGLDEAQLTAHRVFEGENGVPVEEYVAFVIFGERGFQGNMPSWARHLLDRPSLAQAIAVLRAGSDTVAKQAQICAAQQLLGAHVWVVVTLSRAQAADHARAIPRHVWAKYLSLPFSKACAQLCKLLALCSRFPLVTCCSKPPPSLPWLRKKWHGPLPRRPLLEVPSPTRRGVAATEDGNGLGIGAADTGLREALERVAPTVPCGNPFDAMLGSLCFLSLIKSRHVVLPACEQEGPGLVRNLGRRLLAYNVLSPCVSIPVICSRVARAALAKRARCARAVVCMECGHCLNFGRGKFHTVNFPPTNVFFSRDRKEKQFTICATTGRIYCSYCGSEHMRVYPLCDITGRGTLARVVIRAVLANNAALAIRDLDQTVSFVVPCLGTPDCEAALLKHRDVRGLLQLTSQLLEFCCGKCSS', 'MMKSIALALCLTHHSPMVLSIVDYGDSQEKTIDSLWKKPHGSDLTWSGFSRVGVTEAYFAVPVDHFLTNPPSLRLSQTIYCRRGSSYVETEKVEEEDRDDFLKQVWFLTDNLVFFFVDIEEYIVIEQLGDTVYLWDASSCYTSKLVTIDDENGPVTSINWTQDGLDLAVGLDNSEVQVWDCVSNRHVRTLRGGHESRVGSLAWNNHILTTGGMDGKIVNNDVRIRSSIIGTYVGHTEEVCGLKWSESGKKLASGGNDNVVHIWDRSLASSNPTRQWLHRFEEHTAAVRALAWCPFQASLLATGGGVGDGKINFWNTHTGACLNSVETGSQVCSLLWSKSERELLSAHGFTQNQLTLWKYPSMVKMAELNGHTSRVLFMAQSPDGCTVASAAGDETLRLWNVFGEPPKTTKKAASKKYTEPFAHVNHIR', 'MNTMYVMMAQILRSHLIKATVIPNRVKMLPYFGIIRNRMMSTHKSKKKIREYYRLLNVEEGCSADEVRESFHKLAKQYHPDSGSNTADSATFIRIEKAYRKVLSHVIEQTNASQSKGEEEEDVEKFKYKTPQHRHYLSFEGIGFGTPTQREKHYRQFRADRAAEQVMEYQKQKLQSQYFPDSVIVKNIRQSKQQKITQAIERLVEDLIQESMAKGDFDNLSGKGKPLKKFSDCSYIDPMTHNLNRILIDNGYQPEWILKQKEISDTIEQLREAILVSRKKLGNPMTPTEKKQWNHVCEQFQENIRKLNKRINDFNLIVPILTRQKVHFDAQKEIVRAQKIYETLIKTKEVTDRNPNNLDQGEGEKTPEIKKGFLNWMNLWKFIKIRSF', 'MASTFRLSISFLTLILFSLWVVEAHTSRKLISIKEKEGQDISHLLKDGEFDDPSLYMYFTLNDLKLGTKLLIYFYKNDLQKLPPLLTRQQADLIPFTKSKLDFLLDHFSITKDSPQGKAIKETLGHCDAKAIEGEHKFCGTSLESLIDLVKKTMGYNVDLKVMTTKVMVPAQNSISYALHNYTFVEAPKELVGIKMLGCHRMPYPYAVYYCHGHKGGSRVFEVNLVTDDGRQRVVGPAVCHMDTSTWDADHVAFKVLKMEPRSAPVCHFFPLDNIVWVTK', 'METCPVLQKETLFHTEVYAYRIPALLYLKKQKTLLAFAEKRASRTDEHAELIVLRRGSYNGATNHVKWQPEEVVTQAQLEGHRSMNPCPLYDKQTKTLFLFFIAVPGRVSEQHQLQTRVNVTRLCRVTSTDYGMNWSPVQDLTETTIGSTHQDWATFAVGPGHCLQLRNRAGSLLVPAYAYRKLHPVHKPTPFAFCFISLDHGHTWELGNFVSENSLECQVAEVGTGAHRVVYLNARSFIGARVQAQSPNDGLDFQDNQVVSKLVEPPHGCHGSVVAFHSPTSKPDCLRHVAAYTHPTDSRNRTNLGVYLNQTPLDPTAWSEPTLLATGTCAYSDLQIWGLGPDGSPQFGCLYESGNYDEIIFLMFTLKQAFPTVHGAQ', 'MASAITQCSTSELTCSICTDYLTDPVTICCGHRFCSPCLCLLWEDTLTPNCCPVCREISQQMYFKRIIFAEKQVIPTRESVPCQLSSSAMLICRRHQEIKNLICETDRSLLCFLCSQSPRHATHKHYMTREADEYYRKKLLIQMKSIWKKKQKNQRNLNRETNIIGTWEVFINLRSMMISAEYPKVCQYLREEEQKHVESLAREGRIIFQQLKRSQTRMAKMGILLREMYEKLKEMSCKADVNLPQDLGDVMKRNEFLRLAMPQPVNPQLSAWTITGVSERLNFFRVYITLDRKICSNHKLLFEDLRHLQCSLDDTDMSCNPTSTQYTSSWGAQILSSGKHYWEVDVKDSCNWVIGLCREAWTKRNDMRLDSEGIFLLLCLKVDDHFSLFSTSPLLPHYIPRPQGWLGVFLDYECGIVSFVNVAQSSLICSFLSRIFYFPLRPFICHGSK', 'MDSAAPALSPALTAHTGHSATADLAIQIPKCPDPERYFYTSQCPDINHLRSLSILNRWLETELVFVGDEEDVSKLSEGELSFYRFLFAFLSAADDLVTENLGGLSGLFEQKDILHYYVEQECIEVAHSRVYNIIQLVLFHNNDQARREYVAGTINHPAIRAKVDWLEARVRECASVPEKFILMILIEGIFFAASFAAIAYLRTNNLLRVTCQSNDLISRDEAVHTTASCYIYNNYLGGHAKPPPDRVYGLFRQAVEIEIGFIRSQAPTDSHILSPAALAAIENYVRFSADRLLGLIHMKPLFSAPPPDASFPLSLMSTDKHTNFFECRSTSYAGAVVNDL', 'MKPNSEEEEELVQGVGPWDECFEVAVQLALRAGQIIRKALTEEKHVSTKTSAADLVTETDHRVEDLIVSELRKRFPSHRFIAEEATASGAKCVLTHSPTWIIDPIDGTCNFVHRFPTVAVSIGFAVHQELEFGVIHHCTEERLYTGRRGQGAFCNGQRLQVSRETDLAKALVLTEIGPKRDPDTLKVFLSNMERLLHAKAHGVRVIGSSTLALCYLASGAADAYYQFGLHCWDLAAATVIIREAGGIVIDTSGGPLDLMSCRVVAAGTREMAVLIAQALQTINYGRDDEK']\n"
          ]
        },
        {
          "output_type": "error",
          "ename": "ValueError",
          "evalue": "ignored",
          "traceback": [
            "\u001b[0;31m---------------------------------------------------------------------------\u001b[0m",
            "\u001b[0;31mValueError\u001b[0m                                Traceback (most recent call last)",
            "\u001b[0;32m<ipython-input-39-6a574c268bf3>\u001b[0m in \u001b[0;36m<module>\u001b[0;34m\u001b[0m\n\u001b[1;32m      2\u001b[0m \u001b[0;32mfor\u001b[0m \u001b[0mepoch\u001b[0m \u001b[0;32min\u001b[0m \u001b[0mrange\u001b[0m\u001b[0;34m(\u001b[0m\u001b[0mnum_epochs\u001b[0m\u001b[0;34m)\u001b[0m\u001b[0;34m:\u001b[0m\u001b[0;34m\u001b[0m\u001b[0;34m\u001b[0m\u001b[0m\n\u001b[1;32m      3\u001b[0m     \u001b[0;31m# Train for one epoch\u001b[0m\u001b[0;34m\u001b[0m\u001b[0;34m\u001b[0m\u001b[0;34m\u001b[0m\u001b[0m\n\u001b[0;32m----> 4\u001b[0;31m     \u001b[0mtrain_loss\u001b[0m\u001b[0;34m,\u001b[0m \u001b[0mtrain_acc\u001b[0m \u001b[0;34m=\u001b[0m \u001b[0mtrain_epoch\u001b[0m\u001b[0;34m(\u001b[0m\u001b[0mmodel\u001b[0m\u001b[0;34m,\u001b[0m \u001b[0mtrain_loader\u001b[0m\u001b[0;34m,\u001b[0m \u001b[0mcriterion\u001b[0m\u001b[0;34m,\u001b[0m \u001b[0moptimizer\u001b[0m\u001b[0;34m,\u001b[0m \u001b[0mdevice\u001b[0m\u001b[0;34m)\u001b[0m\u001b[0;34m\u001b[0m\u001b[0;34m\u001b[0m\u001b[0m\n\u001b[0m\u001b[1;32m      5\u001b[0m \u001b[0;34m\u001b[0m\u001b[0m\n\u001b[1;32m      6\u001b[0m     \u001b[0;31m# Evaluate on validation set\u001b[0m\u001b[0;34m\u001b[0m\u001b[0;34m\u001b[0m\u001b[0;34m\u001b[0m\u001b[0m\n",
            "\u001b[0;32m<ipython-input-37-3a4b555e0780>\u001b[0m in \u001b[0;36mtrain_epoch\u001b[0;34m(model, dataloader, criterion, optimizer, device)\u001b[0m\n\u001b[1;32m      7\u001b[0m     \u001b[0;32mfor\u001b[0m \u001b[0mbatch\u001b[0m \u001b[0;32min\u001b[0m \u001b[0mdataloader\u001b[0m\u001b[0;34m:\u001b[0m\u001b[0;34m\u001b[0m\u001b[0;34m\u001b[0m\u001b[0m\n\u001b[1;32m      8\u001b[0m         \u001b[0mprint\u001b[0m\u001b[0;34m(\u001b[0m\u001b[0mbatch\u001b[0m\u001b[0;34m)\u001b[0m\u001b[0;34m\u001b[0m\u001b[0;34m\u001b[0m\u001b[0m\n\u001b[0;32m----> 9\u001b[0;31m         \u001b[0msequences\u001b[0m\u001b[0;34m,\u001b[0m \u001b[0mlabels\u001b[0m \u001b[0;34m=\u001b[0m \u001b[0mbatch\u001b[0m\u001b[0;34m\u001b[0m\u001b[0;34m\u001b[0m\u001b[0m\n\u001b[0m\u001b[1;32m     10\u001b[0m         \u001b[0msequences\u001b[0m \u001b[0;34m=\u001b[0m \u001b[0msequences\u001b[0m\u001b[0;34m.\u001b[0m\u001b[0mto\u001b[0m\u001b[0;34m(\u001b[0m\u001b[0mdevice\u001b[0m\u001b[0;34m)\u001b[0m\u001b[0;34m\u001b[0m\u001b[0;34m\u001b[0m\u001b[0m\n\u001b[1;32m     11\u001b[0m         \u001b[0mlabels\u001b[0m \u001b[0;34m=\u001b[0m \u001b[0mlabels\u001b[0m\u001b[0;34m.\u001b[0m\u001b[0mto\u001b[0m\u001b[0;34m(\u001b[0m\u001b[0mdevice\u001b[0m\u001b[0;34m)\u001b[0m\u001b[0;34m\u001b[0m\u001b[0;34m\u001b[0m\u001b[0m\n",
            "\u001b[0;31mValueError\u001b[0m: too many values to unpack (expected 2)"
          ]
        }
      ]
    },
    {
      "cell_type": "code",
      "source": [],
      "metadata": {
        "id": "pXzWYdtAzl4n"
      },
      "execution_count": null,
      "outputs": []
    }
  ]
}